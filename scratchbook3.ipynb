{
 "cells": [
  {
   "cell_type": "code",
   "execution_count": 1,
   "id": "1153ab03-fd3d-4a22-98ae-df1cbf942ee4",
   "metadata": {},
   "outputs": [],
   "source": [
    "import numpy as np\n",
    "import scipy.io\n",
    "import pandas as pd\n",
    "import librosa\n",
    "import dataclasses\n",
    "import os\n",
    "from typing import Tuple\n",
    "from mne.decoding import CSP"
   ]
  },
  {
   "cell_type": "code",
   "execution_count": 2,
   "id": "6ba6e49a-23fa-40f3-be2d-59ee2c8b90df",
   "metadata": {},
   "outputs": [
    {
     "name": "stdout",
     "output_type": "stream",
     "text": [
      "eeg_all shape: (60, 66, 3200)\n",
      "Computing rank from data with rank=None\n",
      "    Using tolerance 2.2e+02 (2.2e-16 eps * 66 dim * 1.5e+16  max singular value)\n",
      "    Estimated rank (mag): 66\n",
      "    MAG: rank 66 computed from 66 data channels with 0 projectors\n",
      "Reducing data rank from 66 -> 66\n",
      "Estimating covariance using EMPIRICAL\n",
      "Done.\n",
      "Computing rank from data with rank=None\n",
      "    Using tolerance 1e+03 (2.2e-16 eps * 66 dim * 6.8e+16  max singular value)\n",
      "    Estimated rank (mag): 66\n",
      "    MAG: rank 66 computed from 66 data channels with 0 projectors\n",
      "Reducing data rank from 66 -> 66\n",
      "Estimating covariance using EMPIRICAL\n",
      "Done.\n",
      "eeg_all shape: (60, 66, 3200)\n",
      "Computing rank from data with rank=None\n",
      "    Using tolerance 6e+02 (2.2e-16 eps * 66 dim * 4.1e+16  max singular value)\n",
      "    Estimated rank (mag): 66\n",
      "    MAG: rank 66 computed from 66 data channels with 0 projectors\n",
      "Reducing data rank from 66 -> 66\n",
      "Estimating covariance using EMPIRICAL\n",
      "Done.\n",
      "Computing rank from data with rank=None\n",
      "    Using tolerance 8.3e+02 (2.2e-16 eps * 66 dim * 5.7e+16  max singular value)\n",
      "    Estimated rank (mag): 66\n",
      "    MAG: rank 66 computed from 66 data channels with 0 projectors\n",
      "Reducing data rank from 66 -> 66\n",
      "Estimating covariance using EMPIRICAL\n",
      "Done.\n",
      "Subject 2\n",
      "The leading minor of order 66 of B is not positive definite. The factorization of B could not be completed and no eigenvalues or eigenvectors were computed.\n",
      "eeg_all shape: (60, 66, 3200)\n",
      "Computing rank from data with rank=None\n",
      "    Using tolerance 6e+02 (2.2e-16 eps * 66 dim * 4.1e+16  max singular value)\n",
      "    Estimated rank (mag): 66\n",
      "    MAG: rank 66 computed from 66 data channels with 0 projectors\n",
      "Reducing data rank from 66 -> 66\n",
      "Estimating covariance using EMPIRICAL\n",
      "Done.\n",
      "Computing rank from data with rank=None\n",
      "    Using tolerance 1.6e+02 (2.2e-16 eps * 66 dim * 1.1e+16  max singular value)\n",
      "    Estimated rank (mag): 66\n",
      "    MAG: rank 66 computed from 66 data channels with 0 projectors\n",
      "Reducing data rank from 66 -> 66\n",
      "Estimating covariance using EMPIRICAL\n",
      "Done.\n",
      "eeg_all shape: (60, 66, 3200)\n",
      "Computing rank from data with rank=None\n",
      "    Using tolerance 3e+02 (2.2e-16 eps * 66 dim * 2e+16  max singular value)\n",
      "    Estimated rank (mag): 66\n",
      "    MAG: rank 66 computed from 66 data channels with 0 projectors\n",
      "Reducing data rank from 66 -> 66\n",
      "Estimating covariance using EMPIRICAL\n",
      "Done.\n",
      "Computing rank from data with rank=None\n",
      "    Using tolerance 2.6e+02 (2.2e-16 eps * 66 dim * 1.8e+16  max singular value)\n",
      "    Estimated rank (mag): 66\n",
      "    MAG: rank 66 computed from 66 data channels with 0 projectors\n",
      "Reducing data rank from 66 -> 66\n",
      "Estimating covariance using EMPIRICAL\n",
      "Done.\n",
      "eeg_all shape: (60, 66, 3200)\n",
      "Computing rank from data with rank=None\n",
      "    Using tolerance 2.3e+02 (2.2e-16 eps * 66 dim * 1.5e+16  max singular value)\n",
      "    Estimated rank (mag): 66\n",
      "    MAG: rank 66 computed from 66 data channels with 0 projectors\n",
      "Reducing data rank from 66 -> 66\n",
      "Estimating covariance using EMPIRICAL\n",
      "Done.\n",
      "Computing rank from data with rank=None\n",
      "    Using tolerance 2.8e+02 (2.2e-16 eps * 66 dim * 1.9e+16  max singular value)\n",
      "    Estimated rank (mag): 66\n",
      "    MAG: rank 66 computed from 66 data channels with 0 projectors\n",
      "Reducing data rank from 66 -> 66\n",
      "Estimating covariance using EMPIRICAL\n",
      "Done.\n",
      "eeg_all shape: (60, 66, 3200)\n",
      "Computing rank from data with rank=None\n",
      "    Using tolerance 1.8e+02 (2.2e-16 eps * 66 dim * 1.2e+16  max singular value)\n",
      "    Estimated rank (mag): 66\n",
      "    MAG: rank 66 computed from 66 data channels with 0 projectors\n",
      "Reducing data rank from 66 -> 66\n",
      "Estimating covariance using EMPIRICAL\n",
      "Done.\n",
      "Computing rank from data with rank=None\n",
      "    Using tolerance 1.7e+02 (2.2e-16 eps * 66 dim * 1.1e+16  max singular value)\n",
      "    Estimated rank (mag): 66\n",
      "    MAG: rank 66 computed from 66 data channels with 0 projectors\n",
      "Reducing data rank from 66 -> 66\n",
      "Estimating covariance using EMPIRICAL\n",
      "Done.\n",
      "eeg_all shape: (60, 66, 3200)\n",
      "Computing rank from data with rank=None\n",
      "    Using tolerance 2.3e+02 (2.2e-16 eps * 66 dim * 1.6e+16  max singular value)\n",
      "    Estimated rank (mag): 66\n",
      "    MAG: rank 66 computed from 66 data channels with 0 projectors\n",
      "Reducing data rank from 66 -> 66\n",
      "Estimating covariance using EMPIRICAL\n",
      "Done.\n",
      "Computing rank from data with rank=None\n",
      "    Using tolerance 1.9e+02 (2.2e-16 eps * 66 dim * 1.3e+16  max singular value)\n",
      "    Estimated rank (mag): 66\n",
      "    MAG: rank 66 computed from 66 data channels with 0 projectors\n",
      "Reducing data rank from 66 -> 66\n",
      "Estimating covariance using EMPIRICAL\n",
      "Done.\n",
      "eeg_all shape: (60, 66, 3200)\n",
      "Computing rank from data with rank=None\n",
      "    Using tolerance 2.9e+02 (2.2e-16 eps * 66 dim * 1.9e+16  max singular value)\n",
      "    Estimated rank (mag): 66\n",
      "    MAG: rank 66 computed from 66 data channels with 0 projectors\n",
      "Reducing data rank from 66 -> 66\n",
      "Estimating covariance using EMPIRICAL\n",
      "Done.\n",
      "Computing rank from data with rank=None\n",
      "    Using tolerance 3.2e+02 (2.2e-16 eps * 66 dim * 2.2e+16  max singular value)\n",
      "    Estimated rank (mag): 66\n",
      "    MAG: rank 66 computed from 66 data channels with 0 projectors\n",
      "Reducing data rank from 66 -> 66\n",
      "Estimating covariance using EMPIRICAL\n",
      "Done.\n",
      "eeg_all shape: (60, 66, 3200)\n",
      "Computing rank from data with rank=None\n",
      "    Using tolerance 1.6e+02 (2.2e-16 eps * 66 dim * 1.1e+16  max singular value)\n",
      "    Estimated rank (mag): 66\n",
      "    MAG: rank 66 computed from 66 data channels with 0 projectors\n",
      "Reducing data rank from 66 -> 66\n",
      "Estimating covariance using EMPIRICAL\n",
      "Done.\n",
      "Computing rank from data with rank=None\n",
      "    Using tolerance 1.9e+02 (2.2e-16 eps * 66 dim * 1.3e+16  max singular value)\n",
      "    Estimated rank (mag): 66\n",
      "    MAG: rank 66 computed from 66 data channels with 0 projectors\n",
      "Reducing data rank from 66 -> 66\n",
      "Estimating covariance using EMPIRICAL\n",
      "Done.\n",
      "eeg_all shape: (60, 66, 3200)\n",
      "Computing rank from data with rank=None\n",
      "    Using tolerance 1.8e+02 (2.2e-16 eps * 66 dim * 1.2e+16  max singular value)\n",
      "    Estimated rank (mag): 66\n",
      "    MAG: rank 66 computed from 66 data channels with 0 projectors\n",
      "Reducing data rank from 66 -> 66\n",
      "Estimating covariance using EMPIRICAL\n",
      "Done.\n",
      "Computing rank from data with rank=None\n",
      "    Using tolerance 5.2e+02 (2.2e-16 eps * 66 dim * 3.5e+16  max singular value)\n",
      "    Estimated rank (mag): 66\n",
      "    MAG: rank 66 computed from 66 data channels with 0 projectors\n",
      "Reducing data rank from 66 -> 66\n",
      "Estimating covariance using EMPIRICAL\n",
      "Done.\n",
      "eeg_all shape: (60, 66, 3200)\n",
      "Computing rank from data with rank=None\n",
      "    Using tolerance 1.1e+04 (2.2e-16 eps * 66 dim * 7.6e+17  max singular value)\n",
      "    Estimated rank (mag): 66\n",
      "    MAG: rank 66 computed from 66 data channels with 0 projectors\n",
      "Reducing data rank from 66 -> 66\n",
      "Estimating covariance using EMPIRICAL\n",
      "Done.\n",
      "Computing rank from data with rank=None\n",
      "    Using tolerance 3.5e+04 (2.2e-16 eps * 66 dim * 2.4e+18  max singular value)\n",
      "    Estimated rank (mag): 66\n",
      "    MAG: rank 66 computed from 66 data channels with 0 projectors\n",
      "Reducing data rank from 66 -> 66\n",
      "Estimating covariance using EMPIRICAL\n",
      "Done.\n",
      "eeg_all shape: (60, 66, 3200)\n",
      "Computing rank from data with rank=None\n",
      "    Using tolerance 3.5e+02 (2.2e-16 eps * 66 dim * 2.4e+16  max singular value)\n",
      "    Estimated rank (mag): 66\n",
      "    MAG: rank 66 computed from 66 data channels with 0 projectors\n",
      "Reducing data rank from 66 -> 66\n",
      "Estimating covariance using EMPIRICAL\n",
      "Done.\n",
      "Computing rank from data with rank=None\n",
      "    Using tolerance 3.5e+02 (2.2e-16 eps * 66 dim * 2.4e+16  max singular value)\n",
      "    Estimated rank (mag): 66\n",
      "    MAG: rank 66 computed from 66 data channels with 0 projectors\n",
      "Reducing data rank from 66 -> 66\n",
      "Estimating covariance using EMPIRICAL\n",
      "Done.\n",
      "eeg_all shape: (60, 66, 3200)\n",
      "Computing rank from data with rank=None\n",
      "    Using tolerance 1.8e+02 (2.2e-16 eps * 66 dim * 1.2e+16  max singular value)\n",
      "    Estimated rank (mag): 66\n",
      "    MAG: rank 66 computed from 66 data channels with 0 projectors\n",
      "Reducing data rank from 66 -> 66\n",
      "Estimating covariance using EMPIRICAL\n",
      "Done.\n",
      "Computing rank from data with rank=None\n",
      "    Using tolerance 2.2e+02 (2.2e-16 eps * 66 dim * 1.5e+16  max singular value)\n",
      "    Estimated rank (mag): 66\n",
      "    MAG: rank 66 computed from 66 data channels with 0 projectors\n",
      "Reducing data rank from 66 -> 66\n",
      "Estimating covariance using EMPIRICAL\n",
      "Done.\n",
      "eeg_all shape: (60, 66, 3200)\n",
      "Computing rank from data with rank=None\n",
      "    Using tolerance 1.6e+02 (2.2e-16 eps * 66 dim * 1.1e+16  max singular value)\n",
      "    Estimated rank (mag): 66\n",
      "    MAG: rank 66 computed from 66 data channels with 0 projectors\n",
      "Reducing data rank from 66 -> 66\n",
      "Estimating covariance using EMPIRICAL\n",
      "Done.\n",
      "Computing rank from data with rank=None\n",
      "    Using tolerance 1.6e+02 (2.2e-16 eps * 66 dim * 1.1e+16  max singular value)\n",
      "    Estimated rank (mag): 66\n",
      "    MAG: rank 66 computed from 66 data channels with 0 projectors\n",
      "Reducing data rank from 66 -> 66\n",
      "Estimating covariance using EMPIRICAL\n",
      "Done.\n",
      "eeg_all shape: (60, 66, 3200)\n",
      "Computing rank from data with rank=None\n",
      "    Using tolerance 1.6e+02 (2.2e-16 eps * 66 dim * 1.1e+16  max singular value)\n",
      "    Estimated rank (mag): 66\n",
      "    MAG: rank 66 computed from 66 data channels with 0 projectors\n",
      "Reducing data rank from 66 -> 66\n",
      "Estimating covariance using EMPIRICAL\n",
      "Done.\n",
      "Computing rank from data with rank=None\n",
      "    Using tolerance 1.7e+02 (2.2e-16 eps * 66 dim * 1.2e+16  max singular value)\n",
      "    Estimated rank (mag): 66\n",
      "    MAG: rank 66 computed from 66 data channels with 0 projectors\n",
      "Reducing data rank from 66 -> 66\n",
      "Estimating covariance using EMPIRICAL\n",
      "Done.\n",
      "eeg_all shape: (60, 66, 3200)\n",
      "Computing rank from data with rank=None\n",
      "    Using tolerance 2.9e+02 (2.2e-16 eps * 66 dim * 1.9e+16  max singular value)\n",
      "    Estimated rank (mag): 66\n",
      "    MAG: rank 66 computed from 66 data channels with 0 projectors\n",
      "Reducing data rank from 66 -> 66\n",
      "Estimating covariance using EMPIRICAL\n",
      "Done.\n",
      "Computing rank from data with rank=None\n",
      "    Using tolerance 3.6e+02 (2.2e-16 eps * 66 dim * 2.4e+16  max singular value)\n",
      "    Estimated rank (mag): 66\n",
      "    MAG: rank 66 computed from 66 data channels with 0 projectors\n",
      "Reducing data rank from 66 -> 66\n",
      "Estimating covariance using EMPIRICAL\n",
      "Done.\n",
      "eeg_all shape: (60, 66, 3200)\n",
      "Computing rank from data with rank=None\n",
      "    Using tolerance 5.2e+02 (2.2e-16 eps * 66 dim * 3.5e+16  max singular value)\n",
      "    Estimated rank (mag): 66\n",
      "    MAG: rank 66 computed from 66 data channels with 0 projectors\n",
      "Reducing data rank from 66 -> 66\n",
      "Estimating covariance using EMPIRICAL\n",
      "Done.\n",
      "Computing rank from data with rank=None\n",
      "    Using tolerance 4.2e+02 (2.2e-16 eps * 66 dim * 2.9e+16  max singular value)\n",
      "    Estimated rank (mag): 66\n",
      "    MAG: rank 66 computed from 66 data channels with 0 projectors\n",
      "Reducing data rank from 66 -> 66\n",
      "Estimating covariance using EMPIRICAL\n",
      "Done.\n",
      "eeg_all shape: (60, 66, 3200)\n",
      "Computing rank from data with rank=None\n",
      "    Using tolerance 2e+02 (2.2e-16 eps * 66 dim * 1.3e+16  max singular value)\n",
      "    Estimated rank (mag): 66\n",
      "    MAG: rank 66 computed from 66 data channels with 0 projectors\n",
      "Reducing data rank from 66 -> 66\n",
      "Estimating covariance using EMPIRICAL\n",
      "Done.\n",
      "Computing rank from data with rank=None\n",
      "    Using tolerance 2.5e+02 (2.2e-16 eps * 66 dim * 1.7e+16  max singular value)\n",
      "    Estimated rank (mag): 66\n",
      "    MAG: rank 66 computed from 66 data channels with 0 projectors\n",
      "Reducing data rank from 66 -> 66\n",
      "Estimating covariance using EMPIRICAL\n",
      "Done.\n"
     ]
    }
   ],
   "source": [
    "SR_EEG = 64\n",
    "SR_AUDIO = 16000\n",
    "SR_DS_AUDIO=64\n",
    "TOTAL_TIME=50\n",
    "T_SPAN = 5\n",
    "N_CH = 66\n",
    "CSP_DIM=64\n",
    "UNPROCESSED = True\n",
    "\n",
    "OV=1\n",
    "STEP_SIZE_EEG = int(SR_EEG*T_SPAN*OV)\n",
    "STEP_SIZE_AUDIO = int(SR_AUDIO*T_SPAN*OV)\n",
    "for subject in range(1,19):\n",
    "# subject =2\n",
    "    try:\n",
    "        base_path =\"/home/alialavi/datasets/eeg_den\"\n",
    "\n",
    "        n_sects = int(50 // T_SPAN)\n",
    "        fn_chan = os.path.join(base_path,'data/chan.mat' )\n",
    "        f_chan_names = scipy.io.loadmat(fn_chan)\n",
    "        ch_names = []\n",
    "        for i in range(64):\n",
    "            ch_names.append(f_chan_names['x'][i, 0][0])\n",
    "\n",
    "        if UNPROCESSED:\n",
    "            fn_eeg = os.path.join(base_path, f'data/DATA_preproc/S{subject}_data_preproc.mat')\n",
    "            f_eeg = scipy.io.loadmat(fn_eeg)\n",
    "\n",
    "            fsample_eeg = f_eeg['data']['fsample'][0][0][0][0][0][0][0]\n",
    "            n_data = len(f_eeg['data']['eeg'][0, 0][0])\n",
    "            eeg = f_eeg['data']['eeg'][0, 0]\n",
    "        else:\n",
    "            raise ValueError('Processed data unspecified.')\n",
    "\n",
    "        fn_expinfo = os.path.join(base_path, f'data/EEG/s{subject}_expinfo.txt')\n",
    "        expinfo = pd.read_csv(fn_expinfo, delimiter=' ')\n",
    "        expinfo = expinfo[expinfo['n_speakers'] == 2].reset_index()\n",
    "\n",
    "        eeg_shape = np.asarray(eeg[0,:]).shape\n",
    "        #eeg_all shape: samples, channels, times\n",
    "        sh = eeg[0, 1].shape\n",
    "        eeg_all = np.zeros((eeg.shape[1], *sh), dtype=np.float32)\n",
    "        for i in range(eeg[0, :].shape[0]):\n",
    "            eeg_all[i, ...] = eeg[0, i]\n",
    "        eeg_all = eeg_all.transpose(0, 2, 1) #sample, channel, time\n",
    "        print(f'eeg_all shape: {eeg_all.shape}')\n",
    "        n_sects = int((TOTAL_TIME - (1 - OV) * T_SPAN) // (OV*T_SPAN))\n",
    "\n",
    "        eeg_all_reshaped = np.zeros((n_data*n_sects,eeg_all.shape[1],T_SPAN*SR_EEG), dtype=np.float32)\n",
    "        for curr_data in range(n_data):\n",
    "            for curr_sect in range(n_sects):\n",
    "                curr_ind = curr_data*n_sects+curr_sect\n",
    "                eeg_all_reshaped[curr_ind,:,:] = eeg_all[curr_data, :, curr_sect*STEP_SIZE_EEG: curr_sect*STEP_SIZE_EEG+T_SPAN*SR_EEG]\n",
    "\n",
    "        event_mf_all = np.asarray(expinfo['attend_mf']).reshape(-1) - 1\n",
    "        events_mf_all_reshaped = np.repeat(event_mf_all, n_sects)\n",
    "        csp = CSP(n_components=CSP_DIM, reg=None, log=False, norm_trace=False)\n",
    "        eeg_all_csp_avg_reshaped = csp.fit_transform(eeg_all_reshaped.astype(np.float64), events_mf_all_reshaped)\n",
    "    except Exception as e:\n",
    "        print(f'Subject {subject}')\n",
    "        print(e)"
   ]
  },
  {
   "cell_type": "code",
   "execution_count": 2,
   "id": "032bf0a7-7bda-4fca-9e38-c16b25d65c1b",
   "metadata": {},
   "outputs": [
    {
     "name": "stdout",
     "output_type": "stream",
     "text": [
      "eeg_all shape: (60, 66, 3200)\n",
      "Computing rank from data with rank=None\n",
      "    Using tolerance 6e+02 (2.2e-16 eps * 66 dim * 4.1e+16  max singular value)\n",
      "    Estimated rank (mag): 66\n",
      "    MAG: rank 66 computed from 66 data channels with 0 projectors\n",
      "Reducing data rank from 66 -> 66\n",
      "Estimating covariance using EMPIRICAL\n",
      "Done.\n",
      "Computing rank from data with rank=None\n",
      "    Using tolerance 8.3e+02 (2.2e-16 eps * 66 dim * 5.7e+16  max singular value)\n",
      "    Estimated rank (mag): 66\n",
      "    MAG: rank 66 computed from 66 data channels with 0 projectors\n",
      "Reducing data rank from 66 -> 66\n",
      "Estimating covariance using EMPIRICAL\n",
      "Done.\n"
     ]
    }
   ],
   "source": [
    "SR_EEG = 64\n",
    "SR_AUDIO = 16000\n",
    "SR_DS_AUDIO=64\n",
    "TOTAL_TIME=50\n",
    "T_SPAN = 5\n",
    "N_CH = 66\n",
    "CSP_DIM=64\n",
    "UNPROCESSED = True\n",
    "\n",
    "OV=1\n",
    "STEP_SIZE_EEG = int(SR_EEG*T_SPAN*OV)\n",
    "STEP_SIZE_AUDIO = int(SR_AUDIO*T_SPAN*OV)\n",
    "\n",
    "subject =2\n",
    "\n",
    "base_path =\"/home/alialavi/datasets/eeg_den\"\n",
    "\n",
    "n_sects = int(50 // T_SPAN)\n",
    "fn_chan = os.path.join(base_path,'data/chan.mat' )\n",
    "f_chan_names = scipy.io.loadmat(fn_chan)\n",
    "ch_names = []\n",
    "for i in range(64):\n",
    "    ch_names.append(f_chan_names['x'][i, 0][0])\n",
    "\n",
    "if UNPROCESSED:\n",
    "    fn_eeg = os.path.join(base_path, f'data/DATA_preproc/S{subject}_data_preproc.mat')\n",
    "    f_eeg = scipy.io.loadmat(fn_eeg)\n",
    "\n",
    "    fsample_eeg = f_eeg['data']['fsample'][0][0][0][0][0][0][0]\n",
    "    n_data = len(f_eeg['data']['eeg'][0, 0][0])\n",
    "    eeg = f_eeg['data']['eeg'][0, 0]\n",
    "else:\n",
    "    raise ValueError('Processed data unspecified.')\n",
    "\n",
    "fn_expinfo = os.path.join(base_path, f'data/EEG/s{subject}_expinfo.txt')\n",
    "expinfo = pd.read_csv(fn_expinfo, delimiter=' ')\n",
    "expinfo = expinfo[expinfo['n_speakers'] == 2].reset_index()\n",
    "\n",
    "eeg_shape = np.asarray(eeg[0,:]).shape\n",
    "#eeg_all shape: samples, channels, times\n",
    "sh = eeg[0, 1].shape\n",
    "eeg_all = np.zeros((eeg.shape[1], *sh), dtype=np.float32)\n",
    "for i in range(eeg[0, :].shape[0]):\n",
    "    eeg_all[i, ...] = eeg[0, i]\n",
    "eeg_all = eeg_all.transpose(0, 2, 1) #sample, channel, time\n",
    "print(f'eeg_all shape: {eeg_all.shape}')\n",
    "n_sects = int((TOTAL_TIME - (1 - OV) * T_SPAN) // (OV*T_SPAN))\n",
    "\n",
    "eeg_all_reshaped = np.zeros((n_data*n_sects,eeg_all.shape[1],T_SPAN*SR_EEG), dtype=np.float32)\n",
    "for curr_data in range(n_data):\n",
    "    for curr_sect in range(n_sects):\n",
    "        curr_ind = curr_data*n_sects+curr_sect\n",
    "        eeg_all_reshaped[curr_ind,:,:] = eeg_all[curr_data, :, curr_sect*STEP_SIZE_EEG: curr_sect*STEP_SIZE_EEG+T_SPAN*SR_EEG]\n",
    "\n",
    "        \n",
    "eeg_all_reshaped += np.random.normal(0,0.01)\n",
    "event_mf_all = np.asarray(expinfo['attend_mf']).reshape(-1) - 1\n",
    "events_mf_all_reshaped = np.repeat(event_mf_all, n_sects)\n",
    "csp = CSP(n_components=CSP_DIM, reg=None, log=False, norm_trace=False)\n",
    "eeg_all_csp_avg_reshaped = csp.fit_transform(eeg_all_reshaped.astype(np.float64), events_mf_all_reshaped)"
   ]
  },
  {
   "cell_type": "code",
   "execution_count": 4,
   "id": "739113d1-9f4d-4024-9b6f-307e24df8ba8",
   "metadata": {},
   "outputs": [
    {
     "data": {
      "text/plain": [
       "array([[[-2.91078835e+01, -4.15659180e+01, -3.77676849e+01, ...,\n",
       "          1.30319042e+01, -5.24203110e+00, -1.52729979e+01],\n",
       "        [-2.81608181e+01, -4.07398567e+01, -3.59088211e+01, ...,\n",
       "          5.43832445e+00, -1.02119131e+01, -1.97554474e+01],\n",
       "        [-2.69774747e+00, -3.33099389e+00, -6.53852987e+00, ...,\n",
       "         -1.18268633e+00, -1.35350466e-01,  1.54400975e-01],\n",
       "        ...,\n",
       "        [-9.83904934e+00, -4.13176250e+00, -3.09159088e+00, ...,\n",
       "          5.80977631e+00,  8.54295921e+00,  9.39201069e+00],\n",
       "        [ 3.05494261e+00,  6.10927916e+00,  1.03157263e+01, ...,\n",
       "          7.72629023e+00,  8.55632687e+00,  4.30075598e+00],\n",
       "        [ 1.08053236e+01,  6.82778788e+00,  1.17798357e+01, ...,\n",
       "          7.85030174e+00,  6.97118425e+00,  9.33035278e+00]],\n",
       "\n",
       "       [[-1.64753628e+01, -1.37820826e+01, -7.08265448e+00, ...,\n",
       "          8.26652451e+01,  9.32476501e+01,  9.06263351e+01],\n",
       "        [-2.14117966e+01, -1.96245670e+01, -1.18819141e+01, ...,\n",
       "          8.69875107e+01,  9.67523041e+01,  9.60456696e+01],\n",
       "        [-1.64352906e+00, -5.89438081e-01,  4.68257405e-02, ...,\n",
       "         -1.13315287e+01, -1.18920050e+01, -1.19425735e+01],\n",
       "        ...,\n",
       "        [ 1.45045776e+01,  1.08881178e+01,  9.34744644e+00, ...,\n",
       "         -1.44518490e+01, -1.88280849e+01, -1.96345711e+01],\n",
       "        [ 3.78232777e-01,  1.41264086e+01,  7.23018503e+00, ...,\n",
       "         -1.86184006e+01, -7.69629431e+00, -9.30300903e+00],\n",
       "        [ 1.53638086e+01,  1.22436800e+01,  1.23020077e+01, ...,\n",
       "         -1.54045811e+01, -1.37226906e+01, -1.49570360e+01]],\n",
       "\n",
       "       [[ 8.39062424e+01,  7.67721558e+01,  8.16263885e+01, ...,\n",
       "         -7.05214691e+01, -7.27239685e+01, -6.92208405e+01],\n",
       "        [ 9.01679230e+01,  8.34842072e+01,  8.79486237e+01, ...,\n",
       "         -6.93868866e+01, -7.15382919e+01, -6.82482758e+01],\n",
       "        [-1.33133116e+01, -1.34948626e+01, -1.46024370e+01, ...,\n",
       "         -6.42578065e-01, -1.17426836e+00, -7.59746194e-01],\n",
       "        ...,\n",
       "        [-1.79821548e+01, -1.41641531e+01, -1.26465368e+01, ...,\n",
       "          3.19521523e+01,  3.34741592e+01,  3.32805099e+01],\n",
       "        [-1.41595573e+01, -2.29489746e+01, -1.83284245e+01, ...,\n",
       "          1.07218571e+01,  2.18157902e+01,  1.31993761e+01],\n",
       "        [-1.63431816e+01, -1.71160545e+01, -1.79810314e+01, ...,\n",
       "          7.58291626e+00,  1.72568035e+01,  2.01718616e+01]],\n",
       "\n",
       "       ...,\n",
       "\n",
       "       [[-7.39060211e+00,  2.48933387e+00,  3.24152446e+00, ...,\n",
       "         -2.10032463e+01, -2.00932407e+01, -3.50547752e+01],\n",
       "        [-1.01077232e+01, -2.26799226e+00, -5.82303941e-01, ...,\n",
       "         -1.74710426e+01, -1.76401005e+01, -3.34418488e+01],\n",
       "        [ 4.93844128e+00,  4.20009756e+00,  3.44378519e+00, ...,\n",
       "         -7.95694828e+00, -8.01303673e+00, -6.14924717e+00],\n",
       "        ...,\n",
       "        [ 6.80809736e+00, -1.33003831e+00, -8.96757007e-01, ...,\n",
       "          7.49847555e+00,  7.82280445e+00,  9.37972355e+00],\n",
       "        [-2.82827115e+00, -5.12227964e+00,  1.06053257e+00, ...,\n",
       "         -9.26417828e+00, -1.00845194e+01, -9.10893822e+00],\n",
       "        [ 5.24967527e+00,  4.50886583e+00,  1.28380604e+01, ...,\n",
       "         -7.52830458e+00, -9.77032757e+00, -1.71258926e+01]],\n",
       "\n",
       "       [[-1.38192406e+01, -1.76124935e+01, -1.36809521e+01, ...,\n",
       "          3.37840195e+01,  4.91713371e+01,  2.88763580e+01],\n",
       "        [-1.23202143e+01, -1.53362923e+01, -1.01560163e+01, ...,\n",
       "          3.21646690e+01,  4.51324310e+01,  2.60482864e+01],\n",
       "        [-4.88937759e+00, -1.00517511e+00, -9.82399821e-01, ...,\n",
       "         -2.79115868e+00, -7.08002448e-01,  4.97707939e+00],\n",
       "        ...,\n",
       "        [ 1.70206451e+00, -2.53140354e+00, -4.03925800e+00, ...,\n",
       "          1.59536111e+00, -5.89073277e+00, -5.11372423e+00],\n",
       "        [-1.17810402e+01, -1.12044106e+01, -9.24610424e+00, ...,\n",
       "         -2.74112010e+00, -5.15191269e+00, -8.95458603e+00],\n",
       "        [-1.08958912e+01, -1.79423504e+01, -9.19173527e+00, ...,\n",
       "         -8.09472275e+00, -9.50703907e+00, -1.25125484e+01]],\n",
       "\n",
       "       [[ 5.68168297e+01,  6.74611511e+01,  5.51937027e+01, ...,\n",
       "          1.39925108e+01,  3.44101524e+01,  1.94243870e+01],\n",
       "        [ 4.88298302e+01,  5.93649864e+01,  4.53560181e+01, ...,\n",
       "         -9.38496113e+00,  1.21790848e+01,  1.98442912e+00],\n",
       "        [ 6.86997604e+00,  9.40874195e+00,  8.15042973e+00, ...,\n",
       "         -2.73983264e+00, -1.29397660e-01,  7.88763642e-01],\n",
       "        ...,\n",
       "        [-1.15116415e+01, -2.04268341e+01, -1.37947102e+01, ...,\n",
       "         -4.67014170e+00, -9.75047398e+00, -7.52266407e+00],\n",
       "        [-1.33111200e+01, -2.12438278e+01, -2.15473442e+01, ...,\n",
       "         -2.90307736e+00, -1.40009463e+00, -1.37846184e+00],\n",
       "        [-1.93211269e+01, -2.22857056e+01, -2.46092129e+01, ...,\n",
       "          3.50500679e+00,  5.37121105e+00,  4.32181406e+00]]],\n",
       "      dtype=float32)"
      ]
     },
     "execution_count": 4,
     "metadata": {},
     "output_type": "execute_result"
    }
   ],
   "source": [
    "eeg_all_reshaped"
   ]
  },
  {
   "cell_type": "code",
   "execution_count": 3,
   "id": "4ad86fb6-6e8e-438a-9f13-8937fcbb2a73",
   "metadata": {},
   "outputs": [],
   "source": [
    "import pickle\n",
    "import os\n",
    "\n",
    "fp =os.path.join('logs','history', 'arch3','val_acc_sbj_0.pkl')\n",
    "with open(fp, \"rb\") as pickle_file:\n",
    "    dic_0 = pickle.load(pickle_file)\n",
    "\n",
    "fp =os.path.join('logs','history', 'arch3', 'val_acc_sbj_1.pkl')\n",
    "with open(fp, \"rb\") as pickle_file:\n",
    "    dic_1 = pickle.load(pickle_file)\n",
    "    \n",
    "# fp =os.path.join('logs','history', 'val_acc_sbj_2.pkl')\n",
    "# with open(fp, \"rb\") as pickle_file:\n",
    "#     dic_2 = pickle.load(pickle_file)    "
   ]
  },
  {
   "cell_type": "code",
   "execution_count": 4,
   "id": "7cf48eba-8aab-41b6-8dce-d5e9bed8ade4",
   "metadata": {},
   "outputs": [],
   "source": [
    "dic_0.update(dic_1)\n",
    "# dic_0.update(dic_2)"
   ]
  },
  {
   "cell_type": "code",
   "execution_count": 5,
   "id": "37c2fac1-0a79-40bd-b49a-41f11380f0aa",
   "metadata": {},
   "outputs": [
    {
     "data": {
      "text/plain": [
       "0.06840925415606554"
      ]
     },
     "execution_count": 5,
     "metadata": {},
     "output_type": "execute_result"
    }
   ],
   "source": [
    "arr = np.concatenate(list(dic_0.values()), axis=0)\n",
    "np.std(arr)"
   ]
  },
  {
   "cell_type": "code",
   "execution_count": 6,
   "id": "7e591c94-8263-43e7-bbfb-faa7b7aa3669",
   "metadata": {},
   "outputs": [],
   "source": [
    "import pandas as pd\n",
    "import plotly.graph_objects as go\n",
    "\n",
    "df = pd.DataFrame({\n",
    "        'Date': [],\n",
    "        'Open': [],\n",
    "        'High': [],\n",
    "        'Low': [],\n",
    "        'Close': []})\n",
    "df.index.name = 'Date'\n",
    "arr = np.concatenate(list(dic_0.values()), axis=0)\n",
    "min = np.min(arr)\n",
    "max = np.max(arr)\n",
    "mean = np.mean(arr)\n",
    "std = np.std(arr)\n",
    "new_row = {'Date': f'0', 'Open': mean + std / 2, 'Close': mean - std / 2, 'High': max, 'Low': min}\n",
    "df.loc[len(df)] = new_row\n",
    "fig = go.Figure(data=[go.Candlestick(x=df['Date'],\n",
    "                                     open=df['Open'],\n",
    "                                     high=df['High'],\n",
    "                                     low=df['Low'],\n",
    "                                     close=df['Close'])])\n",
    "save_path = os.path.join('logs', 'tmp', 'val_acc_overall.png')\n",
    "fig.write_image(save_path)"
   ]
  },
  {
   "cell_type": "code",
   "execution_count": 7,
   "id": "10131c2a-272b-4924-8185-68bbadee26ea",
   "metadata": {},
   "outputs": [],
   "source": [
    "df = pd.DataFrame({\n",
    "    'Date': [],\n",
    "    'Open': [],\n",
    "    'High': [],\n",
    "    'Low': [],\n",
    "    'Close': []})\n",
    "df.index.name = 'Date'\n",
    "subjects = range(1,19)\n",
    "for subject in subjects:\n",
    "    arr = dic_0[subject]\n",
    "    min = np.min(arr)\n",
    "    max = np.max(arr)\n",
    "    mean = np.mean(arr)\n",
    "    std = np.std(arr)\n",
    "    new_row = {'Date':f'{subject}', 'Open':mean+std/2, 'Close':mean-std/2, 'High':max, 'Low':min}\n",
    "    df.loc[len(df)] = new_row\n",
    "\n",
    "fig = go.Figure(data=[go.Candlestick(x=df['Date'],\n",
    "                                     open=df['Open'],\n",
    "                                     high=df['High'],\n",
    "                                     low=df['Low'],\n",
    "                                     close=df['Close'])])\n",
    "save_path = os.path.join('logs', 'tmp', 'val_acc_all_2.png')\n",
    "fig.write_image(save_path)"
   ]
  },
  {
   "cell_type": "code",
   "execution_count": 8,
   "id": "5610a61e-1e0a-4ab9-a49f-12d4792589c3",
   "metadata": {},
   "outputs": [
    {
     "data": {
      "text/plain": [
       "{1: [0.7925170063972473,\n",
       "  0.819727897644043,\n",
       "  0.7891156673431396,\n",
       "  0.7857142686843872,\n",
       "  0.819727897644043],\n",
       " 2: [0.7704081535339355,\n",
       "  0.7874149680137634,\n",
       "  0.7806122303009033,\n",
       "  0.7908163070678711,\n",
       "  0.7840136289596558],\n",
       " 3: [0.6445578336715698,\n",
       "  0.6292517185211182,\n",
       "  0.6428571343421936,\n",
       "  0.6326530575752258,\n",
       "  0.668367326259613],\n",
       " 4: [0.8095238208770752,\n",
       "  0.8435373902320862,\n",
       "  0.8146258592605591,\n",
       "  0.8146258592605591,\n",
       "  0.8095238208770752],\n",
       " 5: [0.7568027377128601,\n",
       "  0.7397959232330322,\n",
       "  0.7142857313156128,\n",
       "  0.726190447807312,\n",
       "  0.7227891087532043],\n",
       " 6: [0.7755101919174194,\n",
       "  0.7670068144798279,\n",
       "  0.7891156673431396,\n",
       "  0.7687074542045593,\n",
       "  0.7908163070678711],\n",
       " 7: [0.7704081535339355,\n",
       "  0.7295918464660645,\n",
       "  0.7636054158210754,\n",
       "  0.7568027377128601,\n",
       "  0.7806122303009033],\n",
       " 8: [0.8180271983146667,\n",
       "  0.8265306353569031,\n",
       "  0.831632673740387,\n",
       "  0.8452380895614624,\n",
       "  0.8265306353569031],\n",
       " 9: [0.6700680255889893,\n",
       "  0.7091836929321289,\n",
       "  0.6887755393981934,\n",
       "  0.7193877696990967,\n",
       "  0.7006802558898926],\n",
       " 10: [0.6598639488220215,\n",
       "  0.6581632494926453,\n",
       "  0.7159863710403442,\n",
       "  0.7057822942733765,\n",
       "  0.7125850319862366],\n",
       " 11: [0.8010203838348389,\n",
       "  0.8299319744110107,\n",
       "  0.8146258592605591,\n",
       "  0.807823121547699,\n",
       "  0.8282312750816345],\n",
       " 12: [0.726190447807312,\n",
       "  0.738095223903656,\n",
       "  0.7363945841789246,\n",
       "  0.7482993006706238,\n",
       "  0.7210884094238281],\n",
       " 13: [0.7244898080825806,\n",
       "  0.7006802558898926,\n",
       "  0.7363945841789246,\n",
       "  0.7278911471366882,\n",
       "  0.7585033774375916],\n",
       " 14: [0.8146258592605591,\n",
       "  0.8214285969734192,\n",
       "  0.807823121547699,\n",
       "  0.8044217824935913,\n",
       "  0.8044217824935913],\n",
       " 15: [0.7721088528633118,\n",
       "  0.773809552192688,\n",
       "  0.7789115905761719,\n",
       "  0.7551020383834839,\n",
       "  0.7585033774375916],\n",
       " 16: [0.7125850319862366,\n",
       "  0.6955782175064087,\n",
       "  0.634353756904602,\n",
       "  0.6955782175064087,\n",
       "  0.6989796161651611],\n",
       " 17: [0.6275510191917419,\n",
       "  0.646258533000946,\n",
       "  0.6190476417541504,\n",
       "  0.6394557952880859,\n",
       "  0.6411564350128174],\n",
       " 18: [0.8911564350128174,\n",
       "  0.9047619104385376,\n",
       "  0.8724489808082581,\n",
       "  0.9064626097679138,\n",
       "  0.9013605713844299]}"
      ]
     },
     "execution_count": 8,
     "metadata": {},
     "output_type": "execute_result"
    }
   ],
   "source": [
    "dic_0"
   ]
  },
  {
   "cell_type": "code",
   "execution_count": 9,
   "id": "0547afdf-0641-48de-897d-814bc47fd4cd",
   "metadata": {},
   "outputs": [
    {
     "name": "stderr",
     "output_type": "stream",
     "text": [
      "2023-10-17 12:52:41.320998: I tensorflow/core/platform/cpu_feature_guard.cc:182] This TensorFlow binary is optimized to use available CPU instructions in performance-critical operations.\n",
      "To enable the following instructions: AVX2 FMA, in other operations, rebuild TensorFlow with the appropriate compiler flags.\n",
      "2023-10-17 12:52:41.883894: W tensorflow/compiler/tf2tensorrt/utils/py_utils.cc:38] TF-TRT Warning: Could not find TensorRT\n"
     ]
    }
   ],
   "source": [
    "import tensorflow as tf"
   ]
  },
  {
   "cell_type": "code",
   "execution_count": 10,
   "id": "582dbf95-ee7c-44e0-8642-fcda8066eef1",
   "metadata": {},
   "outputs": [
    {
     "name": "stderr",
     "output_type": "stream",
     "text": [
      "2023-10-17 12:52:42.343036: I tensorflow/compiler/xla/stream_executor/cuda/cuda_gpu_executor.cc:982] could not open file to read NUMA node: /sys/bus/pci/devices/0000:01:00.0/numa_node\n",
      "Your kernel may have been built without NUMA support.\n",
      "2023-10-17 12:52:42.364168: I tensorflow/compiler/xla/stream_executor/cuda/cuda_gpu_executor.cc:982] could not open file to read NUMA node: /sys/bus/pci/devices/0000:01:00.0/numa_node\n",
      "Your kernel may have been built without NUMA support.\n",
      "2023-10-17 12:52:42.364215: I tensorflow/compiler/xla/stream_executor/cuda/cuda_gpu_executor.cc:982] could not open file to read NUMA node: /sys/bus/pci/devices/0000:01:00.0/numa_node\n",
      "Your kernel may have been built without NUMA support.\n",
      "2023-10-17 12:52:42.368092: I tensorflow/compiler/xla/stream_executor/cuda/cuda_gpu_executor.cc:982] could not open file to read NUMA node: /sys/bus/pci/devices/0000:01:00.0/numa_node\n",
      "Your kernel may have been built without NUMA support.\n",
      "2023-10-17 12:52:42.368169: I tensorflow/compiler/xla/stream_executor/cuda/cuda_gpu_executor.cc:982] could not open file to read NUMA node: /sys/bus/pci/devices/0000:01:00.0/numa_node\n",
      "Your kernel may have been built without NUMA support.\n",
      "2023-10-17 12:52:42.368187: I tensorflow/compiler/xla/stream_executor/cuda/cuda_gpu_executor.cc:982] could not open file to read NUMA node: /sys/bus/pci/devices/0000:01:00.0/numa_node\n",
      "Your kernel may have been built without NUMA support.\n",
      "2023-10-17 12:52:42.983911: I tensorflow/compiler/xla/stream_executor/cuda/cuda_gpu_executor.cc:982] could not open file to read NUMA node: /sys/bus/pci/devices/0000:01:00.0/numa_node\n",
      "Your kernel may have been built without NUMA support.\n",
      "2023-10-17 12:52:42.983977: I tensorflow/compiler/xla/stream_executor/cuda/cuda_gpu_executor.cc:982] could not open file to read NUMA node: /sys/bus/pci/devices/0000:01:00.0/numa_node\n",
      "Your kernel may have been built without NUMA support.\n",
      "2023-10-17 12:52:42.983982: I tensorflow/core/common_runtime/gpu/gpu_device.cc:1722] Could not identify NUMA node of platform GPU id 0, defaulting to 0.  Your kernel may not have been built with NUMA support.\n",
      "2023-10-17 12:52:42.984003: I tensorflow/compiler/xla/stream_executor/cuda/cuda_gpu_executor.cc:982] could not open file to read NUMA node: /sys/bus/pci/devices/0000:01:00.0/numa_node\n",
      "Your kernel may have been built without NUMA support.\n",
      "2023-10-17 12:52:42.984028: I tensorflow/core/common_runtime/gpu/gpu_device.cc:1635] Created device /job:localhost/replica:0/task:0/device:GPU:0 with 5361 MB memory:  -> device: 0, name: NVIDIA GeForce RTX 3070 Ti Laptop GPU, pci bus id: 0000:01:00.0, compute capability: 8.6\n"
     ]
    }
   ],
   "source": [
    "a = tf.random.normal((3,4), 0, 1)\n",
    "b = tf.random.normal((3,4), 0, 1)"
   ]
  },
  {
   "cell_type": "code",
   "execution_count": 11,
   "id": "5957ec94-18b2-4d03-9b02-9def390ff7af",
   "metadata": {},
   "outputs": [
    {
     "data": {
      "text/plain": [
       "<tf.Tensor: shape=(3, 4), dtype=float32, numpy=\n",
       "array([[-0.09227236, -0.09492332, -0.08135707, -1.1668564 ],\n",
       "       [-1.2789668 ,  0.02902941,  0.2131399 ,  2.0630713 ],\n",
       "       [-1.4873916 , -1.21653   , -0.7166199 ,  0.84752333]],\n",
       "      dtype=float32)>"
      ]
     },
     "execution_count": 11,
     "metadata": {},
     "output_type": "execute_result"
    }
   ],
   "source": [
    "a*b"
   ]
  },
  {
   "cell_type": "code",
   "execution_count": 16,
   "id": "d9950b8a-e320-4275-9d5f-195bfc5cb274",
   "metadata": {},
   "outputs": [],
   "source": [
    "acc_cont = {1:[0.8947,0.8903,0.8728,0.8684,0.8859],\n",
    "            2:[0.8859,0.8903,0.9298,0.8640,0.8859],\n",
    "            3:[0.7456,0.7412,0.7500,0.7850,0.8026],\n",
    "            4:[0.9252,0.8903,0.9298,0.9078,0.8971],\n",
    "            5:[0.8421,0.8289,0.8221,0.7798,0.7763],\n",
    "            6:[0.9210526347160339, 0.890350878238678, 0.8289473652839661, 0.8552631735801697,0.8421052694320679],\n",
    "            7:[0.8464912176132202, 0.780701756477356, 0.8333333134651184, 0.8464912176132202, 0.7719298005104065],\n",
    "            8:[0.9254385828971863, 0.8947368264198303, 0.9078947305679321, 0.8947368264198303,0.8815789222717285],\n",
    "            9:[0.8947368264198303, 0.859649121761322, 0.859649121761322, 0.8728070259094238, 0.8289473652839661],\n",
    "            10:[0.8245614171028137, 0.7763158082962036,0.7763158082962036 , 0.7850877046585083, 0.8552631735801697],\n",
    "            11:[0.9035087823867798, 0.8377193212509155, 0.9429824352264404,0.8508771657943726,0.8947368264198303],\n",
    "            12:[0.8508771657943726, 0.8245614171028137,0.8421052694320679, 0.8377193212509155, 0.8640350699424744],\n",
    "            13:[0.8464912176132202,0.7894737124443054, 0.8114035129547119,0.8026315569877625, 0.8157894611358643],\n",
    "            14:[0.9035087823867798,0.9210526347160339,0.9166666865348816, 0.9254385828971863,0.9078947305679321],\n",
    "            15:[0.9035087823867798,0.8728070259094238,0.8815789222717285,0.9342105388641357,0.8815789222717285],\n",
    "            16:[0.8070175647735596, 0.8201754093170166,0.8377193212509155,0.8070175647735596,0.8201754093170166],\n",
    "            17:[0.7412280440330505,0.7236841917037964,0.7456140518188477,0.8070175647735596,0.7631579041481018],\n",
    "            18:[0.9649,0.9429,0.9649,0.9473,0.9649]\n",
    "           }\n",
    "\n",
    "acc_cont = {key: [ el * 100 for el in val] for key, val in acc_cont.items()}\n"
   ]
  },
  {
   "cell_type": "code",
   "execution_count": 17,
   "id": "3b00419b-672a-419f-b75a-f8f20a699d4e",
   "metadata": {},
   "outputs": [],
   "source": [
    "df = pd.DataFrame({\n",
    "    'Date': [],\n",
    "    'Open': [],\n",
    "    'High': [],\n",
    "    'Low': [],\n",
    "    'Close': []})\n",
    "df.index.name = 'Date'\n",
    "subjects = list(range(1,19))\n",
    "for subject in subjects:\n",
    "    arr = acc_cont[subject]\n",
    "    min = np.min(arr)\n",
    "    max = np.max(arr)\n",
    "    mean = np.mean(arr)\n",
    "    std = np.std(arr)\n",
    "    new_row = {'Date':f'{subject}', 'Open':mean+std/2, 'Close':mean-std/2, 'High':max, 'Low':min}\n",
    "    df.loc[len(df)] = new_row\n",
    "\n",
    "fig = go.Figure(data=[go.Candlestick(x=df['Date'],\n",
    "                                     open=df['Open'],\n",
    "                                     high=df['High'],\n",
    "                                     low=df['Low'],\n",
    "                                     close=df['Close'])])\n",
    "save_path = os.path.join('logs', 'tmp', 'val_acc_all_t.png')\n",
    "fig.write_image(save_path)"
   ]
  },
  {
   "cell_type": "code",
   "execution_count": 18,
   "id": "7e767267-d359-42f1-a53b-87c9a35a79d9",
   "metadata": {},
   "outputs": [],
   "source": [
    "\n",
    "df = pd.DataFrame({\n",
    "    'Date': [],\n",
    "    'Open': [],\n",
    "    'High': [],\n",
    "    'Low': [],\n",
    "    'Close': []})\n",
    "df.index.name = 'Date'\n",
    "subjects = list(range(1,19))\n",
    "for subject in subjects:\n",
    "    arr = dic_0[subject]\n",
    "    min = np.min(arr)*100\n",
    "    max = np.max(arr)*100\n",
    "    mean = np.mean(arr)*100\n",
    "    std = np.std(arr)*100\n",
    "    new_row = {'Date':f'{subject}', 'Open':mean+std/2, 'Close':mean-std/2, 'High':max, 'Low':min}\n",
    "    df.loc[len(df)] = new_row\n",
    "\n",
    "fig.add_traces(data=[go.Candlestick(x=df['Date'],\n",
    "                                     open=df['Open'],\n",
    "                                     high=df['High'],\n",
    "                                     low=df['Low'],\n",
    "                                     close=df['Close'])])\n",
    "save_path = os.path.join('logs', 'tmp', 'val_acc_all_2.png')\n",
    "# fig.write_image(save_path)"
   ]
  },
  {
   "cell_type": "code",
   "execution_count": 23,
   "id": "e811932d-d913-425f-b678-7da2d11d20ff",
   "metadata": {},
   "outputs": [
    {
     "data": {
      "application/vnd.plotly.v1+json": {
       "config": {
        "plotlyServerURL": "https://plot.ly"
       },
       "data": [
        {
         "close": [
          87.7349950690575,
          88.04870396989422,
          75.26703972218586,
          90.23510078683874,
          79.64578626520276,
          85.07049575072551,
          79.94373981092559,
          89.34598359954629,
          85.24683694135528,
          78.77925770229878,
          86.69984637630975,
          83.72661049719922,
          80.36898995983086,
          91.08449089058553,
          88.36411224576163,
          81.27701345934156,
          74.19552903450644,
          95.20803673607097
         ],
         "high": [
          89.47,
          92.97999999999999,
          80.25999999999999,
          92.97999999999999,
          84.21,
          92.1052634716034,
          84.64912176132202,
          92.54385828971863,
          89.47368264198303,
          85.52631735801697,
          94.29824352264404,
          86.40350699424744,
          84.64912176132202,
          92.54385828971863,
          93.42105388641357,
          83.77193212509155,
          80.70175647735596,
          96.49
         ],
         "low": [
          86.83999999999999,
          86.4,
          74.11999999999999,
          89.03,
          77.63,
          82.8947365283966,
          77.19298005104065,
          88.15789222717285,
          82.8947365283966,
          77.63158082962036,
          83.77193212509155,
          82.45614171028137,
          78.94737124443054,
          90.35087823867798,
          87.28070259094238,
          80.70175647735596,
          72.36841917037964,
          94.28999999999999
         ],
         "open": [
          88.74900493094248,
          90.1872960301058,
          77.70896027781414,
          91.77289921316124,
          82.32221373479726,
          88.43827709931111,
          83.21415241624726,
          90.82945194351402,
          87.38474150407929,
          81.92249877505718,
          90.4931348668238,
          85.04531924370654,
          82.26258848560371,
          91.89796579352702,
          90.58325542239022,
          82.40719731794115,
          77.0325412245878,
          96.18796326392905
         ],
         "type": "candlestick",
         "x": [
          "1",
          "2",
          "3",
          "4",
          "5",
          "6",
          "7",
          "8",
          "9",
          "10",
          "11",
          "12",
          "13",
          "14",
          "15",
          "16",
          "17",
          "18"
         ]
        },
        {
         "close": [
          79.37853562819649,
          77.91511421083707,
          63.667964880515605,
          81.19722564903988,
          72.45285462018045,
          77.32265442595101,
          75.15992444849056,
          82.5111595285945,
          68.90918774176122,
          67.75241860467976,
          81.0686002373416,
          72.92456154040204,
          72.02458270900065,
          80.72464846281514,
          76.30732441707987,
          67.37840424836071,
          62.972394075877226,
          88.89524782704284
         ],
         "decreasing": {
          "fillcolor": "blue",
          "line": {
           "color": "blue"
          }
         },
         "high": [
          81.9727897644043,
          79.08163070678711,
          66.8367326259613,
          84.35373902320862,
          75.68027377128601,
          79.08163070678711,
          78.06122303009033,
          84.52380895614624,
          71.93877696990967,
          71.59863710403442,
          82.99319744110107,
          74.82993006706238,
          75.85033774375916,
          82.14285969734192,
          77.89115905761719,
          71.25850319862366,
          64.6258533000946,
          90.64626097679138
         ],
         "increasing": {
          "fillcolor": "rgba(0, 0, 0, 0)",
          "line": {
           "color": "rgba(0, 0, 0, 0)"
          }
         },
         "low": [
          78.57142686843872,
          77.04081535339355,
          62.925171852111816,
          80.95238208770752,
          71.42857313156128,
          76.70068144798279,
          72.95918464660645,
          81.80271983146667,
          67.00680255889893,
          65.81632494926453,
          80.10203838348389,
          72.10884094238281,
          70.06802558898926,
          80.44217824935913,
          75.51020383834839,
          63.435375690460205,
          61.90476417541504,
          87.2448980808258
         ],
         "open": [
          80.89357388031792,
          78.61549730420809,
          65.0395179342732,
          82.47624437125431,
          73.94170333270041,
          78.32360297456168,
          76.880890904903,
          83.40720976461839,
          70.61462359857082,
          70.3428172199052,
          82.19670432808809,
          73.87815709897174,
          73.89378420002645,
          81.38419724793926,
          77.23009204105001,
          70.10458935439198,
          63.96638289403244,
          90.15237246943543
         ],
         "type": "candlestick",
         "x": [
          "1",
          "2",
          "3",
          "4",
          "5",
          "6",
          "7",
          "8",
          "9",
          "10",
          "11",
          "12",
          "13",
          "14",
          "15",
          "16",
          "17",
          "18"
         ]
        }
       ],
       "layout": {
        "autosize": true,
        "template": {
         "data": {
          "bar": [
           {
            "error_x": {
             "color": "#2a3f5f"
            },
            "error_y": {
             "color": "#2a3f5f"
            },
            "marker": {
             "line": {
              "color": "#E5ECF6",
              "width": 0.5
             },
             "pattern": {
              "fillmode": "overlay",
              "size": 10,
              "solidity": 0.2
             }
            },
            "type": "bar"
           }
          ],
          "barpolar": [
           {
            "marker": {
             "line": {
              "color": "#E5ECF6",
              "width": 0.5
             },
             "pattern": {
              "fillmode": "overlay",
              "size": 10,
              "solidity": 0.2
             }
            },
            "type": "barpolar"
           }
          ],
          "carpet": [
           {
            "aaxis": {
             "endlinecolor": "#2a3f5f",
             "gridcolor": "white",
             "linecolor": "white",
             "minorgridcolor": "white",
             "startlinecolor": "#2a3f5f"
            },
            "baxis": {
             "endlinecolor": "#2a3f5f",
             "gridcolor": "white",
             "linecolor": "white",
             "minorgridcolor": "white",
             "startlinecolor": "#2a3f5f"
            },
            "type": "carpet"
           }
          ],
          "choropleth": [
           {
            "colorbar": {
             "outlinewidth": 0,
             "ticks": ""
            },
            "type": "choropleth"
           }
          ],
          "contour": [
           {
            "colorbar": {
             "outlinewidth": 0,
             "ticks": ""
            },
            "colorscale": [
             [
              0,
              "#0d0887"
             ],
             [
              0.1111111111111111,
              "#46039f"
             ],
             [
              0.2222222222222222,
              "#7201a8"
             ],
             [
              0.3333333333333333,
              "#9c179e"
             ],
             [
              0.4444444444444444,
              "#bd3786"
             ],
             [
              0.5555555555555556,
              "#d8576b"
             ],
             [
              0.6666666666666666,
              "#ed7953"
             ],
             [
              0.7777777777777778,
              "#fb9f3a"
             ],
             [
              0.8888888888888888,
              "#fdca26"
             ],
             [
              1,
              "#f0f921"
             ]
            ],
            "type": "contour"
           }
          ],
          "contourcarpet": [
           {
            "colorbar": {
             "outlinewidth": 0,
             "ticks": ""
            },
            "type": "contourcarpet"
           }
          ],
          "heatmap": [
           {
            "colorbar": {
             "outlinewidth": 0,
             "ticks": ""
            },
            "colorscale": [
             [
              0,
              "#0d0887"
             ],
             [
              0.1111111111111111,
              "#46039f"
             ],
             [
              0.2222222222222222,
              "#7201a8"
             ],
             [
              0.3333333333333333,
              "#9c179e"
             ],
             [
              0.4444444444444444,
              "#bd3786"
             ],
             [
              0.5555555555555556,
              "#d8576b"
             ],
             [
              0.6666666666666666,
              "#ed7953"
             ],
             [
              0.7777777777777778,
              "#fb9f3a"
             ],
             [
              0.8888888888888888,
              "#fdca26"
             ],
             [
              1,
              "#f0f921"
             ]
            ],
            "type": "heatmap"
           }
          ],
          "heatmapgl": [
           {
            "colorbar": {
             "outlinewidth": 0,
             "ticks": ""
            },
            "colorscale": [
             [
              0,
              "#0d0887"
             ],
             [
              0.1111111111111111,
              "#46039f"
             ],
             [
              0.2222222222222222,
              "#7201a8"
             ],
             [
              0.3333333333333333,
              "#9c179e"
             ],
             [
              0.4444444444444444,
              "#bd3786"
             ],
             [
              0.5555555555555556,
              "#d8576b"
             ],
             [
              0.6666666666666666,
              "#ed7953"
             ],
             [
              0.7777777777777778,
              "#fb9f3a"
             ],
             [
              0.8888888888888888,
              "#fdca26"
             ],
             [
              1,
              "#f0f921"
             ]
            ],
            "type": "heatmapgl"
           }
          ],
          "histogram": [
           {
            "marker": {
             "pattern": {
              "fillmode": "overlay",
              "size": 10,
              "solidity": 0.2
             }
            },
            "type": "histogram"
           }
          ],
          "histogram2d": [
           {
            "colorbar": {
             "outlinewidth": 0,
             "ticks": ""
            },
            "colorscale": [
             [
              0,
              "#0d0887"
             ],
             [
              0.1111111111111111,
              "#46039f"
             ],
             [
              0.2222222222222222,
              "#7201a8"
             ],
             [
              0.3333333333333333,
              "#9c179e"
             ],
             [
              0.4444444444444444,
              "#bd3786"
             ],
             [
              0.5555555555555556,
              "#d8576b"
             ],
             [
              0.6666666666666666,
              "#ed7953"
             ],
             [
              0.7777777777777778,
              "#fb9f3a"
             ],
             [
              0.8888888888888888,
              "#fdca26"
             ],
             [
              1,
              "#f0f921"
             ]
            ],
            "type": "histogram2d"
           }
          ],
          "histogram2dcontour": [
           {
            "colorbar": {
             "outlinewidth": 0,
             "ticks": ""
            },
            "colorscale": [
             [
              0,
              "#0d0887"
             ],
             [
              0.1111111111111111,
              "#46039f"
             ],
             [
              0.2222222222222222,
              "#7201a8"
             ],
             [
              0.3333333333333333,
              "#9c179e"
             ],
             [
              0.4444444444444444,
              "#bd3786"
             ],
             [
              0.5555555555555556,
              "#d8576b"
             ],
             [
              0.6666666666666666,
              "#ed7953"
             ],
             [
              0.7777777777777778,
              "#fb9f3a"
             ],
             [
              0.8888888888888888,
              "#fdca26"
             ],
             [
              1,
              "#f0f921"
             ]
            ],
            "type": "histogram2dcontour"
           }
          ],
          "mesh3d": [
           {
            "colorbar": {
             "outlinewidth": 0,
             "ticks": ""
            },
            "type": "mesh3d"
           }
          ],
          "parcoords": [
           {
            "line": {
             "colorbar": {
              "outlinewidth": 0,
              "ticks": ""
             }
            },
            "type": "parcoords"
           }
          ],
          "pie": [
           {
            "automargin": true,
            "type": "pie"
           }
          ],
          "scatter": [
           {
            "fillpattern": {
             "fillmode": "overlay",
             "size": 10,
             "solidity": 0.2
            },
            "type": "scatter"
           }
          ],
          "scatter3d": [
           {
            "line": {
             "colorbar": {
              "outlinewidth": 0,
              "ticks": ""
             }
            },
            "marker": {
             "colorbar": {
              "outlinewidth": 0,
              "ticks": ""
             }
            },
            "type": "scatter3d"
           }
          ],
          "scattercarpet": [
           {
            "marker": {
             "colorbar": {
              "outlinewidth": 0,
              "ticks": ""
             }
            },
            "type": "scattercarpet"
           }
          ],
          "scattergeo": [
           {
            "marker": {
             "colorbar": {
              "outlinewidth": 0,
              "ticks": ""
             }
            },
            "type": "scattergeo"
           }
          ],
          "scattergl": [
           {
            "marker": {
             "colorbar": {
              "outlinewidth": 0,
              "ticks": ""
             }
            },
            "type": "scattergl"
           }
          ],
          "scattermapbox": [
           {
            "marker": {
             "colorbar": {
              "outlinewidth": 0,
              "ticks": ""
             }
            },
            "type": "scattermapbox"
           }
          ],
          "scatterpolar": [
           {
            "marker": {
             "colorbar": {
              "outlinewidth": 0,
              "ticks": ""
             }
            },
            "type": "scatterpolar"
           }
          ],
          "scatterpolargl": [
           {
            "marker": {
             "colorbar": {
              "outlinewidth": 0,
              "ticks": ""
             }
            },
            "type": "scatterpolargl"
           }
          ],
          "scatterternary": [
           {
            "marker": {
             "colorbar": {
              "outlinewidth": 0,
              "ticks": ""
             }
            },
            "type": "scatterternary"
           }
          ],
          "surface": [
           {
            "colorbar": {
             "outlinewidth": 0,
             "ticks": ""
            },
            "colorscale": [
             [
              0,
              "#0d0887"
             ],
             [
              0.1111111111111111,
              "#46039f"
             ],
             [
              0.2222222222222222,
              "#7201a8"
             ],
             [
              0.3333333333333333,
              "#9c179e"
             ],
             [
              0.4444444444444444,
              "#bd3786"
             ],
             [
              0.5555555555555556,
              "#d8576b"
             ],
             [
              0.6666666666666666,
              "#ed7953"
             ],
             [
              0.7777777777777778,
              "#fb9f3a"
             ],
             [
              0.8888888888888888,
              "#fdca26"
             ],
             [
              1,
              "#f0f921"
             ]
            ],
            "type": "surface"
           }
          ],
          "table": [
           {
            "cells": {
             "fill": {
              "color": "#EBF0F8"
             },
             "line": {
              "color": "white"
             }
            },
            "header": {
             "fill": {
              "color": "#C8D4E3"
             },
             "line": {
              "color": "white"
             }
            },
            "type": "table"
           }
          ]
         },
         "layout": {
          "annotationdefaults": {
           "arrowcolor": "#2a3f5f",
           "arrowhead": 0,
           "arrowwidth": 1
          },
          "autotypenumbers": "strict",
          "coloraxis": {
           "colorbar": {
            "outlinewidth": 0,
            "ticks": ""
           }
          },
          "colorscale": {
           "diverging": [
            [
             0,
             "#8e0152"
            ],
            [
             0.1,
             "#c51b7d"
            ],
            [
             0.2,
             "#de77ae"
            ],
            [
             0.3,
             "#f1b6da"
            ],
            [
             0.4,
             "#fde0ef"
            ],
            [
             0.5,
             "#f7f7f7"
            ],
            [
             0.6,
             "#e6f5d0"
            ],
            [
             0.7,
             "#b8e186"
            ],
            [
             0.8,
             "#7fbc41"
            ],
            [
             0.9,
             "#4d9221"
            ],
            [
             1,
             "#276419"
            ]
           ],
           "sequential": [
            [
             0,
             "#0d0887"
            ],
            [
             0.1111111111111111,
             "#46039f"
            ],
            [
             0.2222222222222222,
             "#7201a8"
            ],
            [
             0.3333333333333333,
             "#9c179e"
            ],
            [
             0.4444444444444444,
             "#bd3786"
            ],
            [
             0.5555555555555556,
             "#d8576b"
            ],
            [
             0.6666666666666666,
             "#ed7953"
            ],
            [
             0.7777777777777778,
             "#fb9f3a"
            ],
            [
             0.8888888888888888,
             "#fdca26"
            ],
            [
             1,
             "#f0f921"
            ]
           ],
           "sequentialminus": [
            [
             0,
             "#0d0887"
            ],
            [
             0.1111111111111111,
             "#46039f"
            ],
            [
             0.2222222222222222,
             "#7201a8"
            ],
            [
             0.3333333333333333,
             "#9c179e"
            ],
            [
             0.4444444444444444,
             "#bd3786"
            ],
            [
             0.5555555555555556,
             "#d8576b"
            ],
            [
             0.6666666666666666,
             "#ed7953"
            ],
            [
             0.7777777777777778,
             "#fb9f3a"
            ],
            [
             0.8888888888888888,
             "#fdca26"
            ],
            [
             1,
             "#f0f921"
            ]
           ]
          },
          "colorway": [
           "#636efa",
           "#EF553B",
           "#00cc96",
           "#ab63fa",
           "#FFA15A",
           "#19d3f3",
           "#FF6692",
           "#B6E880",
           "#FF97FF",
           "#FECB52"
          ],
          "font": {
           "color": "#2a3f5f"
          },
          "geo": {
           "bgcolor": "white",
           "lakecolor": "white",
           "landcolor": "#E5ECF6",
           "showlakes": true,
           "showland": true,
           "subunitcolor": "white"
          },
          "hoverlabel": {
           "align": "left"
          },
          "hovermode": "closest",
          "mapbox": {
           "style": "light"
          },
          "paper_bgcolor": "white",
          "plot_bgcolor": "#E5ECF6",
          "polar": {
           "angularaxis": {
            "gridcolor": "white",
            "linecolor": "white",
            "ticks": ""
           },
           "bgcolor": "#E5ECF6",
           "radialaxis": {
            "gridcolor": "white",
            "linecolor": "white",
            "ticks": ""
           }
          },
          "scene": {
           "xaxis": {
            "backgroundcolor": "#E5ECF6",
            "gridcolor": "white",
            "gridwidth": 2,
            "linecolor": "white",
            "showbackground": true,
            "ticks": "",
            "zerolinecolor": "white"
           },
           "yaxis": {
            "backgroundcolor": "#E5ECF6",
            "gridcolor": "white",
            "gridwidth": 2,
            "linecolor": "white",
            "showbackground": true,
            "ticks": "",
            "zerolinecolor": "white"
           },
           "zaxis": {
            "backgroundcolor": "#E5ECF6",
            "gridcolor": "white",
            "gridwidth": 2,
            "linecolor": "white",
            "showbackground": true,
            "ticks": "",
            "zerolinecolor": "white"
           }
          },
          "shapedefaults": {
           "line": {
            "color": "#2a3f5f"
           }
          },
          "ternary": {
           "aaxis": {
            "gridcolor": "white",
            "linecolor": "white",
            "ticks": ""
           },
           "baxis": {
            "gridcolor": "white",
            "linecolor": "white",
            "ticks": ""
           },
           "bgcolor": "#E5ECF6",
           "caxis": {
            "gridcolor": "white",
            "linecolor": "white",
            "ticks": ""
           }
          },
          "title": {
           "x": 0.05
          },
          "xaxis": {
           "automargin": true,
           "gridcolor": "white",
           "linecolor": "white",
           "ticks": "",
           "title": {
            "standoff": 15
           },
           "zerolinecolor": "white",
           "zerolinewidth": 2
          },
          "yaxis": {
           "automargin": true,
           "gridcolor": "white",
           "linecolor": "white",
           "ticks": "",
           "title": {
            "standoff": 15
           },
           "zerolinecolor": "white",
           "zerolinewidth": 2
          }
         }
        },
        "xaxis": {
         "autorange": true,
         "range": [
          -0.5,
          17.5
         ],
         "rangeslider": {
          "autorange": true,
          "range": [
           -0.5,
           17.5
          ],
          "yaxis": {
           "_template": null,
           "rangemode": "match"
          }
         },
         "type": "category"
        },
        "yaxis": {
         "autorange": true,
         "range": [
          59.98336218516032,
          98.41140199025472
         ]
        }
       }
      },
      "image/png": "[encoded data removed]",
      "text/html": [
       "<div>                            <div id=\"91419264-c8da-4653-86a6-ac709e538721\" class=\"plotly-graph-div\" style=\"height:525px; width:100%;\"></div>            <script type=\"text/javascript\">                require([\"plotly\"], function(Plotly) {                    window.PLOTLYENV=window.PLOTLYENV || {};                                    if (document.getElementById(\"91419264-c8da-4653-86a6-ac709e538721\")) {                    Plotly.newPlot(                        \"91419264-c8da-4653-86a6-ac709e538721\",                        [{\"close\":[87.7349950690575,88.04870396989422,75.26703972218586,90.23510078683874,79.64578626520276,85.07049575072551,79.94373981092559,89.34598359954629,85.24683694135528,78.77925770229878,86.69984637630975,83.72661049719922,80.36898995983086,91.08449089058553,88.36411224576163,81.27701345934156,74.19552903450644,95.20803673607097],\"high\":[89.47,92.97999999999999,80.25999999999999,92.97999999999999,84.21,92.1052634716034,84.64912176132202,92.54385828971863,89.47368264198303,85.52631735801697,94.29824352264404,86.40350699424744,84.64912176132202,92.54385828971863,93.42105388641357,83.77193212509155,80.70175647735596,96.49],\"low\":[86.83999999999999,86.4,74.11999999999999,89.03,77.63,82.8947365283966,77.19298005104065,88.15789222717285,82.8947365283966,77.63158082962036,83.77193212509155,82.45614171028137,78.94737124443054,90.35087823867798,87.28070259094238,80.70175647735596,72.36841917037964,94.28999999999999],\"open\":[88.74900493094248,90.1872960301058,77.70896027781414,91.77289921316124,82.32221373479726,88.43827709931111,83.21415241624726,90.82945194351402,87.38474150407929,81.92249877505718,90.4931348668238,85.04531924370654,82.26258848560371,91.89796579352702,90.58325542239022,82.40719731794115,77.0325412245878,96.18796326392905],\"x\":[\"1\",\"2\",\"3\",\"4\",\"5\",\"6\",\"7\",\"8\",\"9\",\"10\",\"11\",\"12\",\"13\",\"14\",\"15\",\"16\",\"17\",\"18\"],\"type\":\"candlestick\"},{\"close\":[79.37853562819649,77.91511421083707,63.667964880515605,81.19722564903988,72.45285462018045,77.32265442595101,75.15992444849056,82.5111595285945,68.90918774176122,67.75241860467976,81.0686002373416,72.92456154040204,72.02458270900065,80.72464846281514,76.30732441707987,67.37840424836071,62.972394075877226,88.89524782704284],\"high\":[81.9727897644043,79.08163070678711,66.8367326259613,84.35373902320862,75.68027377128601,79.08163070678711,78.06122303009033,84.52380895614624,71.93877696990967,71.59863710403442,82.99319744110107,74.82993006706238,75.85033774375916,82.14285969734192,77.89115905761719,71.25850319862366,64.6258533000946,90.64626097679138],\"low\":[78.57142686843872,77.04081535339355,62.925171852111816,80.95238208770752,71.42857313156128,76.70068144798279,72.95918464660645,81.80271983146667,67.00680255889893,65.81632494926453,80.10203838348389,72.10884094238281,70.06802558898926,80.44217824935913,75.51020383834839,63.435375690460205,61.90476417541504,87.2448980808258],\"open\":[80.89357388031792,78.61549730420809,65.0395179342732,82.47624437125431,73.94170333270041,78.32360297456168,76.880890904903,83.40720976461839,70.61462359857082,70.3428172199052,82.19670432808809,73.87815709897174,73.89378420002645,81.38419724793926,77.23009204105001,70.10458935439198,63.96638289403244,90.15237246943543],\"x\":[\"1\",\"2\",\"3\",\"4\",\"5\",\"6\",\"7\",\"8\",\"9\",\"10\",\"11\",\"12\",\"13\",\"14\",\"15\",\"16\",\"17\",\"18\"],\"type\":\"candlestick\",\"increasing\":{\"fillcolor\":\"rgba(0,0,0,0)\",\"line\":{\"color\":\"rgba(0,0,0,0)\"}},\"decreasing\":{\"fillcolor\":\"blue\",\"line\":{\"color\":\"blue\"}}}],                        {\"template\":{\"data\":{\"histogram2dcontour\":[{\"type\":\"histogram2dcontour\",\"colorbar\":{\"outlinewidth\":0,\"ticks\":\"\"},\"colorscale\":[[0.0,\"#0d0887\"],[0.1111111111111111,\"#46039f\"],[0.2222222222222222,\"#7201a8\"],[0.3333333333333333,\"#9c179e\"],[0.4444444444444444,\"#bd3786\"],[0.5555555555555556,\"#d8576b\"],[0.6666666666666666,\"#ed7953\"],[0.7777777777777778,\"#fb9f3a\"],[0.8888888888888888,\"#fdca26\"],[1.0,\"#f0f921\"]]}],\"choropleth\":[{\"type\":\"choropleth\",\"colorbar\":{\"outlinewidth\":0,\"ticks\":\"\"}}],\"histogram2d\":[{\"type\":\"histogram2d\",\"colorbar\":{\"outlinewidth\":0,\"ticks\":\"\"},\"colorscale\":[[0.0,\"#0d0887\"],[0.1111111111111111,\"#46039f\"],[0.2222222222222222,\"#7201a8\"],[0.3333333333333333,\"#9c179e\"],[0.4444444444444444,\"#bd3786\"],[0.5555555555555556,\"#d8576b\"],[0.6666666666666666,\"#ed7953\"],[0.7777777777777778,\"#fb9f3a\"],[0.8888888888888888,\"#fdca26\"],[1.0,\"#f0f921\"]]}],\"heatmap\":[{\"type\":\"heatmap\",\"colorbar\":{\"outlinewidth\":0,\"ticks\":\"\"},\"colorscale\":[[0.0,\"#0d0887\"],[0.1111111111111111,\"#46039f\"],[0.2222222222222222,\"#7201a8\"],[0.3333333333333333,\"#9c179e\"],[0.4444444444444444,\"#bd3786\"],[0.5555555555555556,\"#d8576b\"],[0.6666666666666666,\"#ed7953\"],[0.7777777777777778,\"#fb9f3a\"],[0.8888888888888888,\"#fdca26\"],[1.0,\"#f0f921\"]]}],\"heatmapgl\":[{\"type\":\"heatmapgl\",\"colorbar\":{\"outlinewidth\":0,\"ticks\":\"\"},\"colorscale\":[[0.0,\"#0d0887\"],[0.1111111111111111,\"#46039f\"],[0.2222222222222222,\"#7201a8\"],[0.3333333333333333,\"#9c179e\"],[0.4444444444444444,\"#bd3786\"],[0.5555555555555556,\"#d8576b\"],[0.6666666666666666,\"#ed7953\"],[0.7777777777777778,\"#fb9f3a\"],[0.8888888888888888,\"#fdca26\"],[1.0,\"#f0f921\"]]}],\"contourcarpet\":[{\"type\":\"contourcarpet\",\"colorbar\":{\"outlinewidth\":0,\"ticks\":\"\"}}],\"contour\":[{\"type\":\"contour\",\"colorbar\":{\"outlinewidth\":0,\"ticks\":\"\"},\"colorscale\":[[0.0,\"#0d0887\"],[0.1111111111111111,\"#46039f\"],[0.2222222222222222,\"#7201a8\"],[0.3333333333333333,\"#9c179e\"],[0.4444444444444444,\"#bd3786\"],[0.5555555555555556,\"#d8576b\"],[0.6666666666666666,\"#ed7953\"],[0.7777777777777778,\"#fb9f3a\"],[0.8888888888888888,\"#fdca26\"],[1.0,\"#f0f921\"]]}],\"surface\":[{\"type\":\"surface\",\"colorbar\":{\"outlinewidth\":0,\"ticks\":\"\"},\"colorscale\":[[0.0,\"#0d0887\"],[0.1111111111111111,\"#46039f\"],[0.2222222222222222,\"#7201a8\"],[0.3333333333333333,\"#9c179e\"],[0.4444444444444444,\"#bd3786\"],[0.5555555555555556,\"#d8576b\"],[0.6666666666666666,\"#ed7953\"],[0.7777777777777778,\"#fb9f3a\"],[0.8888888888888888,\"#fdca26\"],[1.0,\"#f0f921\"]]}],\"mesh3d\":[{\"type\":\"mesh3d\",\"colorbar\":{\"outlinewidth\":0,\"ticks\":\"\"}}],\"scatter\":[{\"fillpattern\":{\"fillmode\":\"overlay\",\"size\":10,\"solidity\":0.2},\"type\":\"scatter\"}],\"parcoords\":[{\"type\":\"parcoords\",\"line\":{\"colorbar\":{\"outlinewidth\":0,\"ticks\":\"\"}}}],\"scatterpolargl\":[{\"type\":\"scatterpolargl\",\"marker\":{\"colorbar\":{\"outlinewidth\":0,\"ticks\":\"\"}}}],\"bar\":[{\"error_x\":{\"color\":\"#2a3f5f\"},\"error_y\":{\"color\":\"#2a3f5f\"},\"marker\":{\"line\":{\"color\":\"#E5ECF6\",\"width\":0.5},\"pattern\":{\"fillmode\":\"overlay\",\"size\":10,\"solidity\":0.2}},\"type\":\"bar\"}],\"scattergeo\":[{\"type\":\"scattergeo\",\"marker\":{\"colorbar\":{\"outlinewidth\":0,\"ticks\":\"\"}}}],\"scatterpolar\":[{\"type\":\"scatterpolar\",\"marker\":{\"colorbar\":{\"outlinewidth\":0,\"ticks\":\"\"}}}],\"histogram\":[{\"marker\":{\"pattern\":{\"fillmode\":\"overlay\",\"size\":10,\"solidity\":0.2}},\"type\":\"histogram\"}],\"scattergl\":[{\"type\":\"scattergl\",\"marker\":{\"colorbar\":{\"outlinewidth\":0,\"ticks\":\"\"}}}],\"scatter3d\":[{\"type\":\"scatter3d\",\"line\":{\"colorbar\":{\"outlinewidth\":0,\"ticks\":\"\"}},\"marker\":{\"colorbar\":{\"outlinewidth\":0,\"ticks\":\"\"}}}],\"scattermapbox\":[{\"type\":\"scattermapbox\",\"marker\":{\"colorbar\":{\"outlinewidth\":0,\"ticks\":\"\"}}}],\"scatterternary\":[{\"type\":\"scatterternary\",\"marker\":{\"colorbar\":{\"outlinewidth\":0,\"ticks\":\"\"}}}],\"scattercarpet\":[{\"type\":\"scattercarpet\",\"marker\":{\"colorbar\":{\"outlinewidth\":0,\"ticks\":\"\"}}}],\"carpet\":[{\"aaxis\":{\"endlinecolor\":\"#2a3f5f\",\"gridcolor\":\"white\",\"linecolor\":\"white\",\"minorgridcolor\":\"white\",\"startlinecolor\":\"#2a3f5f\"},\"baxis\":{\"endlinecolor\":\"#2a3f5f\",\"gridcolor\":\"white\",\"linecolor\":\"white\",\"minorgridcolor\":\"white\",\"startlinecolor\":\"#2a3f5f\"},\"type\":\"carpet\"}],\"table\":[{\"cells\":{\"fill\":{\"color\":\"#EBF0F8\"},\"line\":{\"color\":\"white\"}},\"header\":{\"fill\":{\"color\":\"#C8D4E3\"},\"line\":{\"color\":\"white\"}},\"type\":\"table\"}],\"barpolar\":[{\"marker\":{\"line\":{\"color\":\"#E5ECF6\",\"width\":0.5},\"pattern\":{\"fillmode\":\"overlay\",\"size\":10,\"solidity\":0.2}},\"type\":\"barpolar\"}],\"pie\":[{\"automargin\":true,\"type\":\"pie\"}]},\"layout\":{\"autotypenumbers\":\"strict\",\"colorway\":[\"#636efa\",\"#EF553B\",\"#00cc96\",\"#ab63fa\",\"#FFA15A\",\"#19d3f3\",\"#FF6692\",\"#B6E880\",\"#FF97FF\",\"#FECB52\"],\"font\":{\"color\":\"#2a3f5f\"},\"hovermode\":\"closest\",\"hoverlabel\":{\"align\":\"left\"},\"paper_bgcolor\":\"white\",\"plot_bgcolor\":\"#E5ECF6\",\"polar\":{\"bgcolor\":\"#E5ECF6\",\"angularaxis\":{\"gridcolor\":\"white\",\"linecolor\":\"white\",\"ticks\":\"\"},\"radialaxis\":{\"gridcolor\":\"white\",\"linecolor\":\"white\",\"ticks\":\"\"}},\"ternary\":{\"bgcolor\":\"#E5ECF6\",\"aaxis\":{\"gridcolor\":\"white\",\"linecolor\":\"white\",\"ticks\":\"\"},\"baxis\":{\"gridcolor\":\"white\",\"linecolor\":\"white\",\"ticks\":\"\"},\"caxis\":{\"gridcolor\":\"white\",\"linecolor\":\"white\",\"ticks\":\"\"}},\"coloraxis\":{\"colorbar\":{\"outlinewidth\":0,\"ticks\":\"\"}},\"colorscale\":{\"sequential\":[[0.0,\"#0d0887\"],[0.1111111111111111,\"#46039f\"],[0.2222222222222222,\"#7201a8\"],[0.3333333333333333,\"#9c179e\"],[0.4444444444444444,\"#bd3786\"],[0.5555555555555556,\"#d8576b\"],[0.6666666666666666,\"#ed7953\"],[0.7777777777777778,\"#fb9f3a\"],[0.8888888888888888,\"#fdca26\"],[1.0,\"#f0f921\"]],\"sequentialminus\":[[0.0,\"#0d0887\"],[0.1111111111111111,\"#46039f\"],[0.2222222222222222,\"#7201a8\"],[0.3333333333333333,\"#9c179e\"],[0.4444444444444444,\"#bd3786\"],[0.5555555555555556,\"#d8576b\"],[0.6666666666666666,\"#ed7953\"],[0.7777777777777778,\"#fb9f3a\"],[0.8888888888888888,\"#fdca26\"],[1.0,\"#f0f921\"]],\"diverging\":[[0,\"#8e0152\"],[0.1,\"#c51b7d\"],[0.2,\"#de77ae\"],[0.3,\"#f1b6da\"],[0.4,\"#fde0ef\"],[0.5,\"#f7f7f7\"],[0.6,\"#e6f5d0\"],[0.7,\"#b8e186\"],[0.8,\"#7fbc41\"],[0.9,\"#4d9221\"],[1,\"#276419\"]]},\"xaxis\":{\"gridcolor\":\"white\",\"linecolor\":\"white\",\"ticks\":\"\",\"title\":{\"standoff\":15},\"zerolinecolor\":\"white\",\"automargin\":true,\"zerolinewidth\":2},\"yaxis\":{\"gridcolor\":\"white\",\"linecolor\":\"white\",\"ticks\":\"\",\"title\":{\"standoff\":15},\"zerolinecolor\":\"white\",\"automargin\":true,\"zerolinewidth\":2},\"scene\":{\"xaxis\":{\"backgroundcolor\":\"#E5ECF6\",\"gridcolor\":\"white\",\"linecolor\":\"white\",\"showbackground\":true,\"ticks\":\"\",\"zerolinecolor\":\"white\",\"gridwidth\":2},\"yaxis\":{\"backgroundcolor\":\"#E5ECF6\",\"gridcolor\":\"white\",\"linecolor\":\"white\",\"showbackground\":true,\"ticks\":\"\",\"zerolinecolor\":\"white\",\"gridwidth\":2},\"zaxis\":{\"backgroundcolor\":\"#E5ECF6\",\"gridcolor\":\"white\",\"linecolor\":\"white\",\"showbackground\":true,\"ticks\":\"\",\"zerolinecolor\":\"white\",\"gridwidth\":2}},\"shapedefaults\":{\"line\":{\"color\":\"#2a3f5f\"}},\"annotationdefaults\":{\"arrowcolor\":\"#2a3f5f\",\"arrowhead\":0,\"arrowwidth\":1},\"geo\":{\"bgcolor\":\"white\",\"landcolor\":\"#E5ECF6\",\"subunitcolor\":\"white\",\"showland\":true,\"showlakes\":true,\"lakecolor\":\"white\"},\"title\":{\"x\":0.05},\"mapbox\":{\"style\":\"light\"}}}},                        {\"responsive\": true}                    ).then(function(){\n",
       "                            \n",
       "var gd = document.getElementById('91419264-c8da-4653-86a6-ac709e538721');\n",
       "var x = new MutationObserver(function (mutations, observer) {{\n",
       "        var display = window.getComputedStyle(gd).display;\n",
       "        if (!display || display === 'none') {{\n",
       "            console.log([gd, 'removed!']);\n",
       "            Plotly.purge(gd);\n",
       "            observer.disconnect();\n",
       "        }}\n",
       "}});\n",
       "\n",
       "// Listen for the removal of the full notebook cells\n",
       "var notebookContainer = gd.closest('#notebook-container');\n",
       "if (notebookContainer) {{\n",
       "    x.observe(notebookContainer, {childList: true});\n",
       "}}\n",
       "\n",
       "// Listen for the clearing of the current output cell\n",
       "var outputEl = gd.closest('.output');\n",
       "if (outputEl) {{\n",
       "    x.observe(outputEl, {childList: true});\n",
       "}}\n",
       "\n",
       "                        })                };                });            </script>        </div>"
      ]
     },
     "metadata": {},
     "output_type": "display_data"
    }
   ],
   "source": [
    "\n",
    "color_hi_fill = 'black'\n",
    "color_hi_line = 'black'\n",
    "\n",
    "color_lo_fill = 'blue'\n",
    "color_lo_line = 'blue'\n",
    "\n",
    "# fig.data[0].increasing.fillcolor = color_hi_fill\n",
    "# fig.data[0].increasing.line.color = color_hi_line\n",
    "# fig.data[0].decreasing.fillcolor = 'rgba(0,0,0,0)'\n",
    "# fig.data[0].decreasing.line.color = 'rgba(0,0,0,0)'\n",
    "\n",
    "fig.data[1].increasing.fillcolor = 'rgba(0,0,0,0)'\n",
    "fig.data[1].increasing.line.color = 'rgba(0,0,0,0)'\n",
    "fig.data[1].decreasing.fillcolor = color_lo_fill\n",
    "fig.data[1].decreasing.line.color = color_lo_line\n",
    "\n",
    "fig.show()\n",
    "save_path = os.path.join('logs', 'tmp', 'val_acc_all_over.png')\n",
    "fig.write_image(save_path)"
   ]
  },
  {
   "cell_type": "code",
   "execution_count": 20,
   "id": "4d92afcf-692a-440d-bf71-92c65c75ee31",
   "metadata": {},
   "outputs": [
    {
     "data": {
      "text/plain": [
       "85.51894528781042"
      ]
     },
     "execution_count": 20,
     "metadata": {},
     "output_type": "execute_result"
    }
   ],
   "source": [
    "np.mean([val for _,val in acc_cont.items()])"
   ]
  },
  {
   "cell_type": "code",
   "execution_count": 21,
   "id": "034359dc-30f0-4d79-8c35-009259340e37",
   "metadata": {},
   "outputs": [
    {
     "data": {
      "text/plain": [
       "0.756084656715393"
      ]
     },
     "execution_count": 21,
     "metadata": {},
     "output_type": "execute_result"
    }
   ],
   "source": [
    "np.mean([val for _,val in dic_0.items()])"
   ]
  },
  {
   "cell_type": "code",
   "execution_count": 22,
   "id": "d87428c0-c652-48c1-a30f-4c3d3430ad34",
   "metadata": {},
   "outputs": [
    {
     "data": {
      "text/plain": [
       "88.69320647663541"
      ]
     },
     "execution_count": 22,
     "metadata": {},
     "output_type": "execute_result"
    }
   ],
   "source": [
    "np.mean(np.max([val for _,val in acc_cont.items()], axis=1))"
   ]
  },
  {
   "cell_type": "code",
   "execution_count": null,
   "id": "3623fcbd-24e0-4a24-b8f8-e17236fef321",
   "metadata": {},
   "outputs": [],
   "source": []
  }
 ],
 "metadata": {
  "kernelspec": {
   "display_name": "Python 3",
   "language": "python",
   "name": "python3"
  },
  "language_info": {
   "codemirror_mode": {
    "name": "ipython",
    "version": 3
   },
   "file_extension": ".py",
   "mimetype": "text/x-python",
   "name": "python",
   "nbconvert_exporter": "python",
   "pygments_lexer": "ipython3",
   "version": "3.6.8"
  }
 },
 "nbformat": 4,
 "nbformat_minor": 5
}
