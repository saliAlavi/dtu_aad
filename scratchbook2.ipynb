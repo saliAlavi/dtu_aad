{
 "cells": [
  {
   "cell_type": "code",
   "execution_count": 1,
   "id": "c176a3a4-54b5-43fe-a44c-b3fd2ecf5210",
   "metadata": {},
   "outputs": [],
   "source": [
    "import numpy as np\n",
    "import scipy.io\n",
    "import pandas as pd\n",
    "import librosa\n",
    "import dataclasses\n",
    "import os\n",
    "from typing import Tuple"
   ]
  },
  {
   "cell_type": "code",
   "execution_count": 2,
   "id": "332e7d91-b1b9-4432-8748-d1e2c02ef6df",
   "metadata": {},
   "outputs": [],
   "source": [
    "base_path =\"/home/alialavi/datasets/eeg_den\"\n",
    "subject = 1\n",
    "\n",
    "fn_chan = os.path.join(base_path,'data/chan.mat' )\n",
    "f_chan_names = scipy.io.loadmat(fn_chan)\n",
    "\n",
    "fn_eeg = os.path.join(base_path, f'data/DATA_preproc/S{subject}_data_preproc.mat')\n",
    "f_eeg = scipy.io.loadmat(fn_eeg)\n",
    "\n",
    "fsample_eeg = f_eeg['data']['fsample'][0][0][0][0][0][0][0]\n",
    "n_data = len(f_eeg['data']['eeg'][0, 0][0])\n",
    "eeg = f_eeg['data']['eeg'][0, 0]"
   ]
  },
  {
   "cell_type": "code",
   "execution_count": 9,
   "id": "afcacc6d-0e07-4b5b-b913-5e8772c37b8f",
   "metadata": {},
   "outputs": [],
   "source": [
    "path_exp = os.path.join(base_path, 'data/EEG/s1_expinfo.txt')\n",
    "df = pd.read_csv(path_exp, delimiter=' ')"
   ]
  },
  {
   "cell_type": "code",
   "execution_count": 37,
   "id": "a619ba3d-a6b4-4dd4-9b58-729bf7e4c9a5",
   "metadata": {},
   "outputs": [
    {
     "data": {
      "text/plain": [
       "(3200,)"
      ]
     },
     "execution_count": 37,
     "metadata": {},
     "output_type": "execute_result"
    }
   ],
   "source": [
    "f_eeg['data']['wavA'][0,0][0,19][:,0].shape"
   ]
  },
  {
   "cell_type": "code",
   "execution_count": 29,
   "id": "d13a756d-cd65-4040-b9d9-0dbba4a7b2f6",
   "metadata": {},
   "outputs": [
    {
     "data": {
      "text/plain": [
       "60"
      ]
     },
     "execution_count": 29,
     "metadata": {},
     "output_type": "execute_result"
    }
   ],
   "source": [
    "len(f_eeg['data']['eeg'][0, 0][0])"
   ]
  },
  {
   "cell_type": "code",
   "execution_count": 23,
   "id": "99fcb246-28bc-4490-8a8c-79998f2b0837",
   "metadata": {},
   "outputs": [],
   "source": [
    "for subject in range(1,19):\n",
    "    base_path =\"/home/alialavi/datasets/eeg_den\"\n",
    "    path_exp = os.path.join(base_path, f'data/EEG/s{subject}_expinfo.txt')\n",
    "    df = pd.read_csv(path_exp, delimiter=' ')\n",
    "    df1 = df[df['wavfile_female'].notna()].reset_index()\n",
    "    save_path = os.path.join(base_path, f'data/modified/s{subject}_expinfo_mod.txt')\n",
    "    df1.to_csv(save_path, index=True)"
   ]
  },
  {
   "cell_type": "code",
   "execution_count": 35,
   "id": "bc9f0c8e-3d78-436f-abc9-641201b16f13",
   "metadata": {},
   "outputs": [
    {
     "data": {
      "text/plain": [
       "(3200, 66)"
      ]
     },
     "execution_count": 35,
     "metadata": {},
     "output_type": "execute_result"
    }
   ],
   "source": [
    "f_eeg['data']['eeg'][0, 0][0,10].shape"
   ]
  },
  {
   "cell_type": "code",
   "execution_count": null,
   "id": "d5c9180b-f043-4dae-8bf9-b1c56a7d5039",
   "metadata": {},
   "outputs": [],
   "source": []
  }
 ],
 "metadata": {
  "kernelspec": {
   "display_name": "Python 3 (ipykernel)",
   "language": "python",
   "name": "python3"
  },
  "language_info": {
   "codemirror_mode": {
    "name": "ipython",
    "version": 3
   },
   "file_extension": ".py",
   "mimetype": "text/x-python",
   "name": "python",
   "nbconvert_exporter": "python",
   "pygments_lexer": "ipython3",
   "version": "3.9.16"
  }
 },
 "nbformat": 4,
 "nbformat_minor": 5
}
